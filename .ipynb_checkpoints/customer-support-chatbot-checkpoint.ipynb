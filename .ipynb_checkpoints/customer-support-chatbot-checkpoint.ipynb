{
 "cells": [
  {
   "cell_type": "code",
   "execution_count": 1,
   "id": "9cb71884",
   "metadata": {},
   "outputs": [],
   "source": [
    "import os\n",
    "import logging\n",
    "from vertexai.language_models import ChatModel"
   ]
  },
  {
   "cell_type": "code",
   "execution_count": 2,
   "id": "90529b42",
   "metadata": {},
   "outputs": [
    {
     "name": "stdout",
     "output_type": "stream",
     "text": [
      "Welcome to our customer support bot!\n",
      "To end this conversation, type \"End\".\n",
      "You: I want to return a shirt\n",
      "Bot:  Certainly! To process your return request, I'll need some information. First off, when did you purchase the shirt?\n",
      "You: 31 days ago\n",
      "Bot:  Thank you for providing that information. Unfortunately, our return policy only covers items purchased within the last 30 days. Since your purchase was made 31 days ago, I'm afraid we won't be able to accept the return.\n",
      "You: But it is just one day over\n",
      "Bot:  I understand your frustration, but our policy is firm on this matter. We can only accept returns for items purchased within the 30-day window. If you have any other questions or concerns, feel free to ask.\n",
      "You: I want to return an iron\n",
      "Bot:  Sure, let's process your return request. When did you purchase the iron?\n",
      "You: two weeks ago\n",
      "Bot:  Perfect! Our return policy states that items can be returned if they were purchased within the last 30 days. Since you bought the iron two weeks ago, which is well within the 30-day period, you can return it. Is the iron unused?\n",
      "You: Yes\n",
      "Bot:  Excellent! Since the iron was purchased within the specified timeframe and is unused, you can definitely return it. Please let me know if you have any additional questions or need further assistance with the return process.\n",
      "You: No\n",
      "Bot:  Alright, I'm glad I could help. If you have any more questions or need assistance in the future, don't hesitate to reach out.\n",
      "You: end\n",
      "Thank you for using our customer support bot. Goodbye!\n"
     ]
    }
   ],
   "source": [
    "# Set up logging\n",
    "logging.basicConfig(level=logging.INFO, format='%(asctime)s - %(levelname)s - %(message)s')\n",
    "\n",
    "# Add your Google cloud credentials\n",
    "os.environ['GOOGLE_APPLICATION_CREDENTIALS'] = \"C:\\\\Users\\\\nasgh\\\\Downloads\\\\llmcredentials.json\"\n",
    "\n",
    "try:\n",
    "    chat_model = ChatModel.from_pretrained(\"chat-bison\")\n",
    "\n",
    "    context = '''\n",
    "    You are a customer support bot in charge of return policy.\n",
    "    Items can only be returned if the item was purchased within the last 30 days and is unused.\n",
    "    Ask the customer follow-up questions to determine if the item can be returned or not.\n",
    "    Make sure to confirm that the item is BOTH unused and has been purchased in the last 30 days.\n",
    "    '''\n",
    "    \n",
    "    chat = chat_model.start_chat(context=context)\n",
    "    \n",
    "    print('Welcome to our customer support bot!')\n",
    "    print('To end this conversation, type \"End\".')\n",
    "    \n",
    "    while True:\n",
    "        try:\n",
    "            input_text = input('You: ').strip()\n",
    "            if input_text.lower() in ['end', 'exit', 'quit']:\n",
    "                print('Thank you for using our customer support bot. Goodbye!')\n",
    "                break\n",
    "\n",
    "            if input_text == '':\n",
    "                print('Please enter a valid message.')\n",
    "                continue\n",
    "\n",
    "            response = chat.send_message(input_text)\n",
    "            print('Bot:', response.text)\n",
    "        \n",
    "        except Exception as e:\n",
    "            logging.error(\"An error occurred during the chat: %s\", e)\n",
    "            print(\"Sorry, something went wrong. Please try again.\")\n",
    "    \n",
    "except Exception as e:\n",
    "    logging.critical(\"Failed to initialize the chat model: %s\", e)\n",
    "    print(\"Critical error: Failed to start the chat bot. Please check the logs for more details.\")\n"
   ]
  }
 ],
 "metadata": {
  "kernelspec": {
   "display_name": "Python 3",
   "language": "python",
   "name": "python3"
  },
  "language_info": {
   "codemirror_mode": {
    "name": "ipython",
    "version": 3
   },
   "file_extension": ".py",
   "mimetype": "text/x-python",
   "name": "python",
   "nbconvert_exporter": "python",
   "pygments_lexer": "ipython3",
   "version": "3.8.8"
  }
 },
 "nbformat": 4,
 "nbformat_minor": 5
}
