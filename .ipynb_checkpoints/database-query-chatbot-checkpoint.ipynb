{
 "cells": [
  {
   "cell_type": "code",
   "execution_count": 1,
   "id": "69ef65f6",
   "metadata": {},
   "outputs": [],
   "source": [
    "import os\n",
    "import pandas as pd\n",
    "from sqlalchemy import create_engine, text\n",
    "from vertexai.language_models import CodeGenerationModel"
   ]
  },
  {
   "cell_type": "code",
   "execution_count": 2,
   "id": "d5cfcd77",
   "metadata": {},
   "outputs": [],
   "source": [
    "df = pd.read_csv('penguins.csv') #Replace with the csv file you want to create a database from or if you have a database, skip"
   ]
  },
  {
   "cell_type": "code",
   "execution_count": 3,
   "id": "e8682acb",
   "metadata": {},
   "outputs": [],
   "source": [
    "temp_db = create_engine('sqlite:///:memory:', echo = False)"
   ]
  },
  {
   "cell_type": "code",
   "execution_count": 4,
   "id": "2eae7fff",
   "metadata": {},
   "outputs": [],
   "source": [
    "data = df.to_sql(name='Penguins', con=temp_db)"
   ]
  },
  {
   "cell_type": "code",
   "execution_count": 5,
   "id": "ceba481f",
   "metadata": {},
   "outputs": [],
   "source": [
    "# Get the info of the table using df.info() and pass it as a prefix to the query\n",
    "def create_prefix(query):\n",
    "    prefix = f'''\n",
    "    Return a SQL statement that answers the following query:\n",
    "{query}\n",
    "\n",
    "\n",
    "For a table called 'Penguins' with the following properties:\n",
    "#   Column             Non-Null Count  Dtype  \n",
    "---  ------             --------------  -----  \n",
    " 0   species            344 non-null    object \n",
    " 1   island             344 non-null    object \n",
    " 2   bill_length_mm     342 non-null    float64\n",
    " 3   bill_depth_mm      342 non-null    float64\n",
    " 4   flipper_length_mm  342 non-null    float64\n",
    " 5   body_mass_g        342 non-null    float64\n",
    " 6   sex                333 non-null    object \n",
    " \n",
    " Example Rows:\n",
    "(0, 'Adelie', 'Torgersen', 39.1, 18.7, 181.0, 3750.0, 'MALE'),\n",
    " (1, 'Adelie', 'Torgersen', 39.5, 17.4, 186.0, 3800.0, 'FEMALE')\n",
    " Only return the SQL statement for the query. \n",
    "    '''\n",
    "    return prefix"
   ]
  },
  {
   "cell_type": "code",
   "execution_count": 6,
   "id": "5267014f",
   "metadata": {},
   "outputs": [],
   "source": [
    "def user_input():\n",
    "    query = input('You: ')\n",
    "    return create_prefix(query)"
   ]
  },
  {
   "cell_type": "code",
   "execution_count": 7,
   "id": "3f684ef8",
   "metadata": {},
   "outputs": [],
   "source": [
    "def clean_sql(sql_statement):\n",
    "    return sql_statement.replace('```sql','').replace(\"```\",'').replace('\\n',' ')"
   ]
  },
  {
   "cell_type": "code",
   "execution_count": 8,
   "id": "810b9d3c",
   "metadata": {},
   "outputs": [],
   "source": [
    "# Add your Google cloud credentials\n",
    "os.environ['GOOGLE_APPLICATION_CREDENTIALS'] = \"C:\\\\Users\\\\nasgh\\\\Downloads\\\\llmcredentials.json\"\n",
    "code_gen_model = CodeGenerationModel.from_pretrained('code-bison')"
   ]
  },
  {
   "cell_type": "code",
   "execution_count": 9,
   "id": "33e45e68",
   "metadata": {},
   "outputs": [],
   "source": [
    "def nlp_assistant():\n",
    "    print(\"Bot: Hello! I am your AI Assistant. Ask me anything about the database.\")\n",
    "    print(\"\\n\")\n",
    "    prefix = user_input()\n",
    "    result = code_gen_model.predict(prefix=prefix)\n",
    "    sql = clean_sql(result.text)\n",
    "    with temp_db.connect() as conn:\n",
    "        print(\"\\nBot: Ok, I am running this SQL Statement:\")\n",
    "        print(\"\\n\", sql)\n",
    "        result = conn.execute(text(sql))\n",
    "    print('---------')\n",
    "    print('---------')\n",
    "    print(\"Here is the answer to your query\")\n",
    "    print(result.all())"
   ]
  },
  {
   "cell_type": "code",
   "execution_count": 10,
   "id": "6bceffcb",
   "metadata": {},
   "outputs": [
    {
     "name": "stdout",
     "output_type": "stream",
     "text": [
      "Bot: Hello! I am your AI Assistant. Ask me anything about the database.\n",
      "\n",
      "\n",
      "You: How many female penguins are there in the database?\n",
      "\n",
      "Bot: Ok, I am running this SQL Statement:\n",
      "\n",
      "  SELECT COUNT(*) FROM Penguins WHERE sex = 'FEMALE'; \n",
      "---------\n",
      "---------\n",
      "Here is the answer to your query\n",
      "[(165,)]\n"
     ]
    }
   ],
   "source": [
    "nlp_assistant()"
   ]
  }
 ],
 "metadata": {
  "kernelspec": {
   "display_name": "Python 3",
   "language": "python",
   "name": "python3"
  },
  "language_info": {
   "codemirror_mode": {
    "name": "ipython",
    "version": 3
   },
   "file_extension": ".py",
   "mimetype": "text/x-python",
   "name": "python",
   "nbconvert_exporter": "python",
   "pygments_lexer": "ipython3",
   "version": "3.8.8"
  }
 },
 "nbformat": 4,
 "nbformat_minor": 5
}
